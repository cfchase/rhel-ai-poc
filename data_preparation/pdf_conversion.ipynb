{
 "cells": [
  {
   "cell_type": "code",
   "execution_count": null,
   "metadata": {
    "ExecuteTime": {
     "end_time": "2024-12-11T20:51:55.620525Z",
     "start_time": "2024-12-11T20:51:54.687054Z"
    }
   },
   "outputs": [],
   "source": [
    "from os import mkdir, makedirs\n",
    "!pip install -r requirements.txt"
   ]
  },
  {
   "cell_type": "code",
   "execution_count": null,
   "metadata": {
    "ExecuteTime": {
     "end_time": "2024-12-11T20:51:55.630818Z",
     "start_time": "2024-12-11T20:51:55.623724Z"
    }
   },
   "outputs": [],
   "source": [
    "from dotenv import load_dotenv\n",
    "from pathlib import Path\n",
    "import os\n",
    "\n",
    "load_dotenv(override=True)\n",
    "\n",
    "# Access the variables\n",
    "input_dir = Path(os.getenv('INPUT_DIR', 'document_collection'))\n",
    "output_dir = Path(os.getenv('OUTPUT_DIR', 'converted_documents'))\n",
    "os.makedirs(output_dir, exist_ok=True)"
   ]
  },
  {
   "cell_type": "markdown",
   "metadata": {},
   "source": [
    "### Setup Instructions\n",
    "\n",
    "This demo demonstrates the process of converting raw PDF files into InstructLab Synthetic Knowledge Infusion Data using the RBC POC as an example. Follow these steps to get started with your own data.\n",
    "\n",
    "#### Steps to Get Started:\n",
    "\n",
    "1. **Organize Your Documents:**\n",
    "   - Create a new directory under the `document_collection` directory for your specific project. For example, if your project is named \"my_org,\" your directory structure should look like this:\n",
    "     ```\n",
    "     |-- document_collection\n",
    "     |   `-- my_subject\n",
    "     |       `-- my_subject_data.pdf\n",
    "     ```\n",
    "   - Place all your PDF files into this directory.\n",
    "\n",
    "2. **Create Your qna.yaml:**\n",
    "    - Create a taxonomy folder with qna.yaml files\n",
    "    - Ensure your ICL files contain sufficient context and question-answer pairs. We recommend including at least 5 distinct contexts, each with a minimum of 3 sets of questions and answers. More entries will improve the robustness of your data.\n",
    "    - The ICL file should be in the following format (refer to the `document_collection/my_subject/qna.yaml` file for an example):\n",
    "\n",
    "    ```yaml\n",
    "    domain: \n",
    "    document_outline: A one to two line description of the document\n",
    "    seed_examples:\n",
    "      - context: <context 1 goes here>\n",
    "        question_and_answers:\n",
    "          - question: <question 1 goes here>\n",
    "            answer: <answer 1 goes here>\n",
    "          - question: <question 2 goes here>\n",
    "            answer: <answer 2 goes here>\n",
    "          - question: <question 3 goes here>\n",
    "            answer: <answer 3 goes here>\n",
    "    ... \n",
    "\n",
    "\n",
    "   - **Note:** Replace placeholders with actual content relevant to your documents. Ensure the contexts are clear and questions are well-formulated to extract meaningful answers.\n",
    "\n",
    "3. **Update the Data Directory Path:**\n",
    "   - In the .env file, customize the `INPUT_DIR` variable to reflect the path to your directory.  For example:\n",
    "     ```shell\n",
    "     INPUT_DIR = \"document_collection\"\n",
    "     ```\n",
    "     If you do not customize this variable, it will default to `document_collection`\n",
    "4. **Update the Output Directory Path:**\n",
    "   - In the .env file, customize the `OUTPUT_DIR` variable to reflect the path to your output directory. For example:\n",
    "     ```shell\n",
    "     data_dir = \"converted_documents\"\n",
    "     ```\n",
    "     If you do not customize this variable, it will default to `converted_documents`.\n",
    "---"
   ]
  },
  {
   "cell_type": "markdown",
   "metadata": {},
   "source": [
    "### Convert PDF Documents to Markdown and JSON and inspect\n",
    "\n",
    "In order to understand how the PDF documents will be used for Synthetic Data Generation (SDG), you may want to view the converted documents.  We employ [Docling](https://github.com/DS4SD/docling), which is also used by the SDG conversion process of InstructLab.  If the converted documents are not well formed and accurate, you can modify the converted markdown as needed and use that as your source document instead of the PDF.\n",
    "\n"
   ]
  },
  {
   "cell_type": "code",
   "execution_count": null,
   "metadata": {
    "ExecuteTime": {
     "end_time": "2024-12-11T20:52:26.170404Z",
     "start_time": "2024-12-11T20:51:55.707760Z"
    }
   },
   "outputs": [],
   "source": [
    "from pathlib import Path\n",
    "from typing import Iterable\n",
    "import json\n",
    "import time\n",
    "import os\n",
    "import re\n",
    "\n",
    "from docling.datamodel.base_models import ConversionStatus\n",
    "from docling.datamodel.document import ConversionResult\n",
    "from docling.document_converter import DocumentConverter\n",
    "\n",
    "\n",
    "def write_doc_json(conv_res, filename):\n",
    "    with filename.open(\"w\") as fp:\n",
    "        fp.write(json.dumps(conv_res.document.export_to_dict(), indent=2))\n",
    "    print(f\"Exported: {filename}\")\n",
    "    return filename\n",
    "\n",
    "\n",
    "def write_doc_md(conv_res, filename):\n",
    "    with filename.open(\"w\") as fp:\n",
    "        fp.write(conv_res.document.export_to_markdown())\n",
    "    print(f\"Exported: {filename}\")\n",
    "    return filename\n",
    "\n",
    "\n",
    "def process_directory(input_dir, output_dir):\n",
    "    file_paths = list(input_dir.rglob(\"*.pdf\"))\n",
    "    doc_converter = DocumentConverter()\n",
    "    start_time = time.time()\n",
    "    conversion_results = doc_converter.convert_all(file_paths)\n",
    "\n",
    "    success_count = 0\n",
    "    failure_count = 0\n",
    "    output_files = []\n",
    "\n",
    "    for conv_res in conversion_results:\n",
    "        if conv_res.status == ConversionStatus.SUCCESS:\n",
    "            success_count += 1\n",
    "            print(f\"Exporting: {conv_res.input.file}\")\n",
    "            doc_filename = conv_res.input.file.stem\n",
    "            doc_directory = conv_res.input.file.parent\n",
    "            doc_output_dir = Path(re.sub(str(input_dir), str(output_dir), str(doc_directory)))\n",
    "            doc_output_dir.mkdir(parents=True, exist_ok=True)\n",
    "\n",
    "            # output_json = write_doc_json(conv_res, doc_output_dir / f\"{doc_filename}.json\")\n",
    "            # output_files.append(output_json)\n",
    "            output_md = write_doc_md(conv_res, doc_output_dir / f\"{doc_filename}.md\")\n",
    "            output_files.append(output_md)\n",
    "\n",
    "        else:\n",
    "            print(f\"Document {conv_res.input.file} failed to convert.\")\n",
    "            failure_count += 1\n",
    "\n",
    "    print(\n",
    "        f\"Successfully processed {success_count} docs. \"\n",
    "        f\"Failed to convert {failure_count} docs. \"\n",
    "        f\"Elapsed time: {time.time() - start_time:.2f} seconds.\"\n",
    "    )\n",
    "\n",
    "    return success_count, failure_count\n",
    "\n",
    "process_directory(input_dir, output_dir)"
   ]
  },
  {
   "cell_type": "code",
   "execution_count": null,
   "metadata": {
    "ExecuteTime": {
     "end_time": "2024-12-11T20:52:26.176318Z",
     "start_time": "2024-12-11T20:52:26.174949Z"
    }
   },
   "outputs": [],
   "source": []
  }
 ],
 "metadata": {
  "kernelspec": {
   "display_name": "Python 3 (ipykernel)",
   "language": "python",
   "name": "python3"
  },
  "language_info": {
   "codemirror_mode": {
    "name": "ipython",
    "version": 3
   },
   "file_extension": ".py",
   "mimetype": "text/x-python",
   "name": "python",
   "nbconvert_exporter": "python",
   "pygments_lexer": "ipython3",
   "version": "3.11.9"
  }
 },
 "nbformat": 4,
 "nbformat_minor": 4
}
